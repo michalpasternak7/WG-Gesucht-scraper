{
 "cells": [
  {
   "cell_type": "markdown",
   "metadata": {},
   "source": [
    "### Imports"
   ]
  },
  {
   "cell_type": "code",
   "execution_count": 1,
   "metadata": {},
   "outputs": [],
   "source": [
    "import pandas as pd\n",
    "import gspread\n",
    "from gspread_dataframe import set_with_dataframe\n",
    "from list_scraper_daily import get_data\n",
    "from datetime import datetime, timedelta"
   ]
  },
  {
   "cell_type": "markdown",
   "metadata": {},
   "source": [
    "### Functions"
   ]
  },
  {
   "cell_type": "code",
   "execution_count": 2,
   "metadata": {},
   "outputs": [],
   "source": [
    "def count_filled_rows(worksheet):\n",
    "    # Get the values in the worksheet\n",
    "    values = worksheet.get_all_values()\n",
    "    \n",
    "    # Check if the sheet is empty\n",
    "    if not values:\n",
    "        return 0  # Return 0 if the sheet is empty\n",
    "    \n",
    "    # Count the number of non-empty rows\n",
    "    num_rows_filled = sum(1 for row in values if any(row))\n",
    "    \n",
    "    return num_rows_filled"
   ]
  },
  {
   "cell_type": "markdown",
   "metadata": {},
   "source": [
    "### Get the data from WG-Gesucht"
   ]
  },
  {
   "cell_type": "code",
   "execution_count": 3,
   "metadata": {},
   "outputs": [
    {
     "name": "stdout",
     "output_type": "stream",
     "text": [
      "[15:47:48][0] 23.03.2024 not reached yet.\n",
      "[15:47:59][1] 23.03.2024 not reached yet.\n",
      "[15:48:08][2] 23.03.2024 not reached yet.\n",
      "[15:48:21][3] 23.03.2024 not reached yet.\n",
      "[15:48:26][4] 23.03.2024 not reached yet.\n",
      "[15:48:37][5] 23.03.2024 not reached yet.\n"
     ]
    }
   ],
   "source": [
    "# Get data to append\n",
    "YESTERDAY = (datetime.now().date() - timedelta(days=1)).strftime('%d.%m.%Y')\n",
    "append_df = get_data(date=YESTERDAY, timeout_minutes=30)"
   ]
  },
  {
   "cell_type": "code",
   "execution_count": null,
   "metadata": {},
   "outputs": [
    {
     "data": {
      "text/plain": [
       "False"
      ]
     },
     "execution_count": 5,
     "metadata": {},
     "output_type": "execute_result"
    }
   ],
   "source": [
    "append_df.empty"
   ]
  },
  {
   "cell_type": "code",
   "execution_count": null,
   "metadata": {},
   "outputs": [
    {
     "data": {
      "text/html": [
       "<div>\n",
       "<style scoped>\n",
       "    .dataframe tbody tr th:only-of-type {\n",
       "        vertical-align: middle;\n",
       "    }\n",
       "\n",
       "    .dataframe tbody tr th {\n",
       "        vertical-align: top;\n",
       "    }\n",
       "\n",
       "    .dataframe thead th {\n",
       "        text-align: right;\n",
       "    }\n",
       "</style>\n",
       "<table border=\"1\" class=\"dataframe\">\n",
       "  <thead>\n",
       "    <tr style=\"text-align: right;\">\n",
       "      <th></th>\n",
       "      <th>wg_id</th>\n",
       "      <th>href</th>\n",
       "      <th>size_and_genders</th>\n",
       "      <th>entry_date</th>\n",
       "      <th>price</th>\n",
       "      <th>sqr_m</th>\n",
       "      <th>city_part</th>\n",
       "      <th>available_from</th>\n",
       "      <th>available_to</th>\n",
       "    </tr>\n",
       "  </thead>\n",
       "  <tbody>\n",
       "    <tr>\n",
       "      <th>0</th>\n",
       "      <td>10922437</td>\n",
       "      <td>wg-zimmer-in-Berlin-Kreuzberg.10922437.html</td>\n",
       "      <td>4er WG (0w,3m,0d)</td>\n",
       "      <td>23.03.2024</td>\n",
       "      <td>890</td>\n",
       "      <td>30</td>\n",
       "      <td>Berlin Kreuzberg</td>\n",
       "      <td>16.04.2024</td>\n",
       "      <td>26.05.2024</td>\n",
       "    </tr>\n",
       "    <tr>\n",
       "      <th>1</th>\n",
       "      <td>10921751</td>\n",
       "      <td>wg-zimmer-in-Berlin-Steglitz-Zehlendorf.109217...</td>\n",
       "      <td>3er WG (2w,0m,0d)</td>\n",
       "      <td>23.03.2024</td>\n",
       "      <td>500</td>\n",
       "      <td>15</td>\n",
       "      <td>Berlin Steglitz-Zehlendorf</td>\n",
       "      <td>01.04.2024</td>\n",
       "      <td></td>\n",
       "    </tr>\n",
       "    <tr>\n",
       "      <th>2</th>\n",
       "      <td>8725181</td>\n",
       "      <td>wg-zimmer-in-Berlin-Samariterstrae.8725181.html</td>\n",
       "      <td>3er WG (1w,1m,0d)</td>\n",
       "      <td>23.03.2024</td>\n",
       "      <td>600</td>\n",
       "      <td>19</td>\n",
       "      <td>Berlin Samariterstrae</td>\n",
       "      <td>01.04.2024</td>\n",
       "      <td>31.05.2024</td>\n",
       "    </tr>\n",
       "    <tr>\n",
       "      <th>3</th>\n",
       "      <td>10906997</td>\n",
       "      <td>wg-zimmer-in-Berlin-Berlin.10906997.html</td>\n",
       "      <td>5er WG (2w,2m,0d)</td>\n",
       "      <td>23.03.2024</td>\n",
       "      <td>600</td>\n",
       "      <td>18</td>\n",
       "      <td>Berlin Berlin</td>\n",
       "      <td>01.06.2024</td>\n",
       "      <td>31.08.2024</td>\n",
       "    </tr>\n",
       "    <tr>\n",
       "      <th>4</th>\n",
       "      <td>9801883</td>\n",
       "      <td>wg-zimmer-in-Berlin-Pankow.9801883.html</td>\n",
       "      <td>4er WG (2w,1m,0d)</td>\n",
       "      <td>23.03.2024</td>\n",
       "      <td>999</td>\n",
       "      <td>30</td>\n",
       "      <td>Berlin Pankow</td>\n",
       "      <td>01.04.2024</td>\n",
       "      <td></td>\n",
       "    </tr>\n",
       "    <tr>\n",
       "      <th>...</th>\n",
       "      <td>...</td>\n",
       "      <td>...</td>\n",
       "      <td>...</td>\n",
       "      <td>...</td>\n",
       "      <td>...</td>\n",
       "      <td>...</td>\n",
       "      <td>...</td>\n",
       "      <td>...</td>\n",
       "      <td>...</td>\n",
       "    </tr>\n",
       "    <tr>\n",
       "      <th>256</th>\n",
       "      <td>10921318</td>\n",
       "      <td>wg-zimmer-in-Berlin-Friedrichshain.10921318.html</td>\n",
       "      <td>2er WG (0w,1m,0d)</td>\n",
       "      <td>23.03.2024</td>\n",
       "      <td>700</td>\n",
       "      <td>22</td>\n",
       "      <td>Berlin Friedrichshain</td>\n",
       "      <td>01.04.2024</td>\n",
       "      <td></td>\n",
       "    </tr>\n",
       "    <tr>\n",
       "      <th>257</th>\n",
       "      <td>9828439</td>\n",
       "      <td>wg-zimmer-in-Berlin.9828439.html</td>\n",
       "      <td>2er WG (1w,0m,0d)</td>\n",
       "      <td>23.03.2024</td>\n",
       "      <td>634</td>\n",
       "      <td>23</td>\n",
       "      <td>Berlin</td>\n",
       "      <td>01.04.2024</td>\n",
       "      <td>31.05.2024</td>\n",
       "    </tr>\n",
       "    <tr>\n",
       "      <th>258</th>\n",
       "      <td>10876641</td>\n",
       "      <td>wg-zimmer-in-Berlin-Kreuzberg.10876641.html</td>\n",
       "      <td>2er WG (1w,0m,0d)</td>\n",
       "      <td>23.03.2024</td>\n",
       "      <td>1355</td>\n",
       "      <td>26</td>\n",
       "      <td>Berlin Kreuzberg</td>\n",
       "      <td>01.06.2024</td>\n",
       "      <td>31.05.2025</td>\n",
       "    </tr>\n",
       "    <tr>\n",
       "      <th>259</th>\n",
       "      <td>9154102</td>\n",
       "      <td>wg-zimmer-in-Berlin-Prenzlauer-Berg.9154102.html</td>\n",
       "      <td>4er WG (1w,2m,0d)</td>\n",
       "      <td>23.03.2024</td>\n",
       "      <td>660</td>\n",
       "      <td>14</td>\n",
       "      <td>Berlin Prenzlauer Berg</td>\n",
       "      <td>01.04.2024</td>\n",
       "      <td></td>\n",
       "    </tr>\n",
       "    <tr>\n",
       "      <th>260</th>\n",
       "      <td>10643769</td>\n",
       "      <td>wg-zimmer-in-Berlin-Kreuzberg.10643769.html</td>\n",
       "      <td>3er WG (1w,1m,0d)</td>\n",
       "      <td>23.03.2024</td>\n",
       "      <td>600</td>\n",
       "      <td>18</td>\n",
       "      <td>Berlin Kreuzberg</td>\n",
       "      <td>01.04.2024</td>\n",
       "      <td>31.05.2024</td>\n",
       "    </tr>\n",
       "  </tbody>\n",
       "</table>\n",
       "<p>261 rows × 9 columns</p>\n",
       "</div>"
      ],
      "text/plain": [
       "        wg_id                                               href  \\\n",
       "0    10922437        wg-zimmer-in-Berlin-Kreuzberg.10922437.html   \n",
       "1    10921751  wg-zimmer-in-Berlin-Steglitz-Zehlendorf.109217...   \n",
       "2     8725181    wg-zimmer-in-Berlin-Samariterstrae.8725181.html   \n",
       "3    10906997           wg-zimmer-in-Berlin-Berlin.10906997.html   \n",
       "4     9801883            wg-zimmer-in-Berlin-Pankow.9801883.html   \n",
       "..        ...                                                ...   \n",
       "256  10921318   wg-zimmer-in-Berlin-Friedrichshain.10921318.html   \n",
       "257   9828439                   wg-zimmer-in-Berlin.9828439.html   \n",
       "258  10876641        wg-zimmer-in-Berlin-Kreuzberg.10876641.html   \n",
       "259   9154102   wg-zimmer-in-Berlin-Prenzlauer-Berg.9154102.html   \n",
       "260  10643769        wg-zimmer-in-Berlin-Kreuzberg.10643769.html   \n",
       "\n",
       "      size_and_genders  entry_date price sqr_m                   city_part  \\\n",
       "0    4er WG (0w,3m,0d)  23.03.2024   890    30            Berlin Kreuzberg   \n",
       "1    3er WG (2w,0m,0d)  23.03.2024   500    15  Berlin Steglitz-Zehlendorf   \n",
       "2    3er WG (1w,1m,0d)  23.03.2024   600    19       Berlin Samariterstrae   \n",
       "3    5er WG (2w,2m,0d)  23.03.2024   600    18               Berlin Berlin   \n",
       "4    4er WG (2w,1m,0d)  23.03.2024   999    30               Berlin Pankow   \n",
       "..                 ...         ...   ...   ...                         ...   \n",
       "256  2er WG (0w,1m,0d)  23.03.2024   700    22       Berlin Friedrichshain   \n",
       "257  2er WG (1w,0m,0d)  23.03.2024   634    23                      Berlin   \n",
       "258  2er WG (1w,0m,0d)  23.03.2024  1355    26            Berlin Kreuzberg   \n",
       "259  4er WG (1w,2m,0d)  23.03.2024   660    14      Berlin Prenzlauer Berg   \n",
       "260  3er WG (1w,1m,0d)  23.03.2024   600    18            Berlin Kreuzberg   \n",
       "\n",
       "    available_from available_to  \n",
       "0       16.04.2024   26.05.2024  \n",
       "1       01.04.2024               \n",
       "2       01.04.2024   31.05.2024  \n",
       "3       01.06.2024   31.08.2024  \n",
       "4       01.04.2024               \n",
       "..             ...          ...  \n",
       "256     01.04.2024               \n",
       "257     01.04.2024   31.05.2024  \n",
       "258     01.06.2024   31.05.2025  \n",
       "259     01.04.2024               \n",
       "260     01.04.2024   31.05.2024  \n",
       "\n",
       "[261 rows x 9 columns]"
      ]
     },
     "execution_count": 6,
     "metadata": {},
     "output_type": "execute_result"
    }
   ],
   "source": [
    "append_df"
   ]
  },
  {
   "cell_type": "markdown",
   "metadata": {},
   "source": [
    "### Connect to Google Spreadsheet"
   ]
  },
  {
   "cell_type": "code",
   "execution_count": null,
   "metadata": {},
   "outputs": [],
   "source": [
    "# Authenticate and connect to Google Sheets\n",
    "gc = gspread.service_account(filename=\"./service_account.json\")\n",
    "\n",
    "# Open the Google Sheets document\n",
    "worksheet = gc.open(\"wg-gesucht_list\").worksheet(\"list_data\")"
   ]
  },
  {
   "cell_type": "markdown",
   "metadata": {},
   "source": [
    "### Append data to Google Spreadsheet"
   ]
  },
  {
   "cell_type": "code",
   "execution_count": null,
   "metadata": {},
   "outputs": [],
   "source": [
    "set_with_dataframe(worksheet, append_df, row=count_filled_rows(worksheet)+1, include_index=False, include_column_header=False)"
   ]
  },
  {
   "cell_type": "code",
   "execution_count": null,
   "metadata": {},
   "outputs": [],
   "source": []
  }
 ],
 "metadata": {
  "kernelspec": {
   "display_name": "base",
   "language": "python",
   "name": "python3"
  },
  "language_info": {
   "codemirror_mode": {
    "name": "ipython",
    "version": 3
   },
   "file_extension": ".py",
   "mimetype": "text/x-python",
   "name": "python",
   "nbconvert_exporter": "python",
   "pygments_lexer": "ipython3",
   "version": "3.12.2"
  }
 },
 "nbformat": 4,
 "nbformat_minor": 2
}
