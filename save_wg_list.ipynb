{
 "cells": [
  {
   "cell_type": "markdown",
   "metadata": {},
   "source": [
    "### Imports"
   ]
  },
  {
   "cell_type": "code",
   "execution_count": 26,
   "metadata": {},
   "outputs": [],
   "source": [
    "import gspread\n",
    "from get_wg_list import get_data\n",
    "from datetime import datetime, timedelta"
   ]
  },
  {
   "cell_type": "markdown",
   "metadata": {},
   "source": [
    "### Get the data from WG-Gesucht"
   ]
  },
  {
   "cell_type": "code",
   "execution_count": 7,
   "metadata": {},
   "outputs": [
    {
     "name": "stdout",
     "output_type": "stream",
     "text": [
      "[11:35:53][https://www.wg-gesucht.de/wg-zimmer-in-Berlin.8.0.0.0.html] 20 new WG's appended successfully.\n",
      "[11:36:01][https://www.wg-gesucht.de/wg-zimmer-in-Berlin.8.0.0.1.html] 20 new WG's appended successfully.\n",
      "Timeout reached. Exiting function.\n"
     ]
    }
   ],
   "source": [
    "# Get data to append\n",
    "today = (datetime.now().date()).strftime('%d.%m.%Y')\n",
    "yesterday = (datetime.now().date() - timedelta(days=1)).strftime('%d.%m.%Y')\n",
    "append_df = get_data(date=today, timeout_minutes=0.2)"
   ]
  },
  {
   "cell_type": "markdown",
   "metadata": {},
   "source": [
    "### Connect to Google Spreadsheet"
   ]
  },
  {
   "cell_type": "code",
   "execution_count": 68,
   "metadata": {},
   "outputs": [],
   "source": [
    "# Authenticate and connect to Google Sheets\n",
    "gc = gspread.service_account(filename=\"./service_account.json\")\n",
    "\n",
    "# Open the Google Sheets document\n",
    "worksheet = gc.open(\"wg-gesucht_list\").worksheet(\"list_data\")"
   ]
  },
  {
   "cell_type": "markdown",
   "metadata": {},
   "source": [
    "### Append data to Google Spreadsheet"
   ]
  },
  {
   "cell_type": "code",
   "execution_count": 69,
   "metadata": {},
   "outputs": [
    {
     "data": {
      "text/plain": [
       "{'spreadsheetId': '1w4o5iWrCYBdZF8-IVzw1X9K8J2fXFXkVMiN6lULaH-w',\n",
       " 'tableRange': 'list_data!A1:I1916',\n",
       " 'updates': {'spreadsheetId': '1w4o5iWrCYBdZF8-IVzw1X9K8J2fXFXkVMiN6lULaH-w',\n",
       "  'updatedRange': 'list_data!A1917:I1956',\n",
       "  'updatedRows': 40,\n",
       "  'updatedColumns': 9,\n",
       "  'updatedCells': 360}}"
      ]
     },
     "execution_count": 69,
     "metadata": {},
     "output_type": "execute_result"
    }
   ],
   "source": [
    "# Convert the data to a list of lists\n",
    "append_list = append_df.values.tolist()\n",
    "\n",
    "# Append data to Google Spreadsheet\n",
    "worksheet.append_rows(append_list, value_input_option='RAW')"
   ]
  }
 ],
 "metadata": {
  "kernelspec": {
   "display_name": "base",
   "language": "python",
   "name": "python3"
  },
  "language_info": {
   "codemirror_mode": {
    "name": "ipython",
    "version": 3
   },
   "file_extension": ".py",
   "mimetype": "text/x-python",
   "name": "python",
   "nbconvert_exporter": "python",
   "pygments_lexer": "ipython3",
   "version": "3.12.2"
  }
 },
 "nbformat": 4,
 "nbformat_minor": 2
}
